{
 "cells": [
  {
   "cell_type": "code",
   "execution_count": 1,
   "metadata": {},
   "outputs": [
    {
     "name": "stderr",
     "output_type": "stream",
     "text": [
      "[nptdms.reader WARNING] Last segment of file has less data than expected, will attempt to read to the end of the file\n",
      "[nptdms.reader WARNING] Last segment of file has less data than expected, will attempt to read to the end of the file\n",
      "[nptdms.reader WARNING] Last segment of file has less data than expected, will attempt to read to the end of the file\n"
     ]
    },
    {
     "name": "stdout",
     "output_type": "stream",
     "text": [
      "ws_increment missing of autoencoder/data/tdms_files/P018_S01_D2023-10-04_G25.tdms in group R002 skipping the group\n"
     ]
    }
   ],
   "source": [
    "from autoencoder.data.tdms_to_npy_scaling import patch_matrix\n",
    "a = patch_matrix(1500, save=True)"
   ]
  },
  {
   "cell_type": "code",
   "execution_count": null,
   "metadata": {},
   "outputs": [],
   "source": [
    "import neurokit2 as nk\n",
    "import numpy as np\n",
    "import pandas as pd\n",
    "import scipy.stats as stats\n",
    "import matplotlib.pyplot as plt\n",
    "\n",
    "# Generate ECG data with different configurations\n",
    "fetal_clean = nk.ecg_simulate(duration=10, noise=0, heart_rate=120, sampling_rate=1000)\n",
    "maternal_clean = nk.ecg_simulate(duration=10, noise=0, heart_rate=60, sampling_rate=1000)\n",
    "\n",
    "# Introduce noise to the fetal ECG signals\n",
    "fetal_noisy_1 = 0.01 * nk.ecg_simulate(duration=10, noise=0, heart_rate=120, sampling_rate=1000)\n",
    "fetal_noisy_2 = 0.1 * nk.ecg_simulate(duration=10, noise=10, heart_rate=120, sampling_rate=1000)\n",
    "fetal_noisy_3 = 0.1 * nk.ecg_simulate(duration=10, noise=15, heart_rate=120, sampling_rate=1000)\n",
    "\n",
    "# Shift the maternal ECG to simulate fetal ECG at different delays\n",
    "maternal_shifted_1 = np.roll(maternal_clean, 300)\n",
    "maternal_shifted_2 = np.roll(maternal_clean, 600)\n",
    "\n",
    "# Combine fetal and maternal ECG signals without noise\n",
    "ecg_sum_no_noise_1 = fetal_clean + maternal_shifted_1\n",
    "ecg_sum_no_noise_2 = fetal_clean + maternal_shifted_2\n",
    "\n",
    "# Combine noisy fetal ECG signals with maternal ECG\n",
    "ecg_sum_noise_1 = fetal_noisy_1 + maternal_shifted_1\n",
    "ecg_sum_noise_2 = fetal_noisy_2 + maternal_shifted_1\n",
    "ecg_sum_noise_3 = fetal_noisy_3 + maternal_shifted_1\n",
    "ecg_sum_noise_4 = fetal_noisy_1 + maternal_shifted_2\n",
    "ecg_sum_noise_5 = fetal_noisy_2 + maternal_shifted_2\n",
    "ecg_sum_noise_6 = fetal_noisy_3 + maternal_shifted_2\n",
    "\n",
    "# Create a DataFrame for visualization\n",
    "ecg_df = pd.DataFrame(\n",
    "    {\n",
    "        \"fetal_clean\": fetal_clean,\n",
    "        \"maternal_clean\": maternal_clean,\n",
    "        \"maternal_shifted_1\": maternal_shifted_1,\n",
    "        \"maternal_shifted_2\": maternal_shifted_2,\n",
    "        \"fetal_noisy_1\": fetal_noisy_1,\n",
    "        \"fetal_noisy_2\": fetal_noisy_2,\n",
    "        \"fetal_noisy_3\": fetal_noisy_3,\n",
    "        \"ecg_sum_no_noise_1\": ecg_sum_no_noise_1,\n",
    "        \"ecg_sum_no_noise_2\": ecg_sum_no_noise_2,\n",
    "        \"ecg_sum_noise_1\": ecg_sum_noise_1,\n",
    "        \"ecg_sum_noise_2\": ecg_sum_noise_2,\n",
    "        \"ecg_sum_noise_3\": ecg_sum_noise_3,\n",
    "        \"ecg_sum_noise_4\": ecg_sum_noise_4,\n",
    "        \"ecg_sum_noise_5\": ecg_sum_noise_5,\n",
    "        \"ecg_sum_noise_6\": ecg_sum_noise_6\n",
    "    })\n",
    "\n",
    "# Calculate and print the kurtosis of each column in ecg_df\n",
    "kurtosis_values = ecg_df.apply(stats.kurtosis)\n",
    "print(\"Kurtosis values:\")\n",
    "print(kurtosis_values)\n",
    "\n",
    "# Visualize the ECG signals with a larger figure\n",
    "plt.figure(figsize=(15, 20))\n",
    "nk.signal_plot(ecg_df, subplots=True)\n",
    "plt.show()\n"
   ]
  },
  {
   "cell_type": "code",
   "execution_count": null,
   "metadata": {},
   "outputs": [],
   "source": [
    "import neurokit2 as nk\n",
    "import numpy as np\n",
    "import pandas as pd\n",
    "import scipy.stats as stats\n",
    "import matplotlib.pyplot as plt\n",
    "from sklearn.metrics import mutual_info_score\n",
    "\n",
    "# Generate ECG data with different configurations\n",
    "fetal_clean = nk.ecg_simulate(duration=6, noise=0, heart_rate=120, sampling_rate=1000)\n",
    "maternal_clean = nk.ecg_simulate(duration=6, noise=0, heart_rate=60, sampling_rate=1000)\n",
    "\n",
    "# Create a DataFrame for visualization\n",
    "ecg_df = pd.DataFrame(\n",
    "    {\n",
    "        \"fetal_clean\": fetal_clean,\n",
    "        \"maternal_clean\": maternal_clean,\n",
    "    })\n",
    "\n",
    "\n",
    "# Correlation Coefficient\n",
    "correlation = np.corrcoef(ecg_df['fetal_clean'], ecg_df['maternal_clean'])[0, 1]\n",
    "print(f'Correlation coefficient between fetal clean and maternal clean ECG: {correlation}')\n",
    "\n",
    "# Discretize the data into bins\n",
    "bins = 10000\n",
    "fetal_clean_binned = pd.cut(ecg_df['fetal_clean'], bins, labels=False)\n",
    "maternal_clean_binned = pd.cut(ecg_df['maternal_clean'], bins, labels=False)\n",
    "\n",
    "# Calculate Mutual Information on binned data\n",
    "mutual_info = mutual_info_score(fetal_clean_binned, maternal_clean_binned)\n",
    "print(f'Mutual information between fetal clean and maternal clean ECG: {mutual_info}')\n",
    "\n",
    "\n"
   ]
  }
 ],
 "metadata": {
  "kernelspec": {
   "display_name": ".fmcg_venv",
   "language": "python",
   "name": "python3"
  },
  "language_info": {
   "codemirror_mode": {
    "name": "ipython",
    "version": 3
   },
   "file_extension": ".py",
   "mimetype": "text/x-python",
   "name": "python",
   "nbconvert_exporter": "python",
   "pygments_lexer": "ipython3",
   "version": "3.12.3"
  }
 },
 "nbformat": 4,
 "nbformat_minor": 2
}
