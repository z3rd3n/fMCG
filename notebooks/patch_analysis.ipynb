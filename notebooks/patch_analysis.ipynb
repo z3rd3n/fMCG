{
 "cells": [
  {
   "cell_type": "code",
   "execution_count": 1,
   "metadata": {},
   "outputs": [],
   "source": [
    "import functions\n",
    "import scipy\n",
    "import matplotlib.pyplot as plt\n",
    "import numpy as np\n",
    "from scipy.signal import savgol_filter\n",
    "from hosd_python.hosd import apply_hosd # library that I converted from MATLAB\n",
    "from copy import deepcopy\n",
    "import scipy.stats as stats\n",
    "from autoencoder.data.tdms_to_npy_scaling import patch_matrix"
   ]
  },
  {
   "cell_type": "code",
   "execution_count": 2,
   "metadata": {},
   "outputs": [
    {
     "name": "stderr",
     "output_type": "stream",
     "text": [
      "[nptdms.reader WARNING] Last segment of file has less data than expected, will attempt to read to the end of the file\n",
      "[nptdms.reader WARNING] Last segment of file has less data than expected, will attempt to read to the end of the file\n",
      "[nptdms.reader WARNING] Last segment of file has less data than expected, will attempt to read to the end of the file\n"
     ]
    },
    {
     "name": "stdout",
     "output_type": "stream",
     "text": [
      "ws_increment missing of autoencoder/data/tdms_files/P018_S01_D2023-10-04_G25.tdms in group R002 skipping the group\n"
     ]
    }
   ],
   "source": [
    "data = patch_matrix(3000)\n",
    "print(data.shape)"
   ]
  },
  {
   "cell_type": "code",
   "execution_count": null,
   "metadata": {},
   "outputs": [],
   "source": [
    "no_ica_chans = 18\n",
    "fs=1000\n",
    "span = 10*fs\n",
    "offset = 100*fs \n",
    "ms2s = lambda x, _:f'{x/1000:g}' \n",
    "window_size=int(1400) # used for higher-order-spectral filtering\n",
    "time_axis=np.linspace(0,int(window_size)-1,num=int(window_size))"
   ]
  },
  {
   "cell_type": "code",
   "execution_count": null,
   "metadata": {},
   "outputs": [],
   "source": [
    "P, S, C = data.shape\n",
    "patch_num = 5000\n",
    "fig, ax = plt.subplots(C, 1, sharex=True, figsize=(18 / 2.54, 24 / 2.54), dpi=250) #\n",
    "fig.subplots_adjust(hspace=0)\n",
    "    \n",
    "for j in range(C):\n",
    "    ax[j].plot(data[patch_num, :, j], label=str(stats.kurtosis(data[patch_num, :, j])))\n",
    "    ax[j].legend(loc=1)\n",
    "ax[-1].xaxis.set_major_formatter(ms2s)\n",
    "ax[-1].set_xlabel('Time [s]')\n",
    "plt.show()"
   ]
  }
 ],
 "metadata": {
  "kernelspec": {
   "display_name": "cloudspace",
   "language": "python",
   "name": "python3"
  },
  "language_info": {
   "codemirror_mode": {
    "name": "ipython",
    "version": 3
   },
   "file_extension": ".py",
   "mimetype": "text/x-python",
   "name": "python",
   "nbconvert_exporter": "python",
   "pygments_lexer": "ipython3",
   "version": "3.10.10"
  }
 },
 "nbformat": 4,
 "nbformat_minor": 2
}
