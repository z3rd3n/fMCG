{
  "nbformat": 4,
  "nbformat_minor": 0,
  "metadata": {
    "colab": {
      "provenance": [],
      "authorship_tag": "ABX9TyPaYfQw3I5BgKKbGVyPodMZ",
      "include_colab_link": true
    },
    "kernelspec": {
      "name": "python3",
      "display_name": "Python 3"
    },
    "language_info": {
      "name": "python"
    }
  },
  "cells": [
    {
      "cell_type": "markdown",
      "metadata": {
        "id": "view-in-github",
        "colab_type": "text"
      },
      "source": [
        "<a href=\"https://colab.research.google.com/github/z3rd3n/fMCG/blob/main/autoencoder/training.ipynb\" target=\"_parent\"><img src=\"https://colab.research.google.com/assets/colab-badge.svg\" alt=\"Open In Colab\"/></a>"
      ]
    },
    {
      "cell_type": "code",
      "execution_count": 17,
      "metadata": {
        "id": "fpq_l5XjwtE4"
      },
      "outputs": [],
      "source": [
        "%%capture\n",
        "!git clone https://github.com/z3rd3n/fMCG.git\n",
        "!pip install nptdms ismember neurokit2\n",
        "import sys\n",
        "sys.path.append('/content/fMCG')"
      ]
    }
  ]
}